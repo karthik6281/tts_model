{
  "nbformat": 4,
  "nbformat_minor": 0,
  "metadata": {
    "colab": {
      "provenance": []
    },
    "kernelspec": {
      "name": "python3",
      "display_name": "Python 3"
    },
    "language_info": {
      "name": "python"
    }
  },
  "cells": [
    {
      "cell_type": "code",
      "execution_count": 1,
      "metadata": {
        "colab": {
          "base_uri": "https://localhost:8080/"
        },
        "id": "mtdCs-h4a5v9",
        "outputId": "4869ac7e-a327-4f81-84fd-d4e4eaf7f389"
      },
      "outputs": [
        {
          "output_type": "stream",
          "name": "stdout",
          "text": [
            "Looking in indexes: https://pypi.org/simple, https://us-python.pkg.dev/colab-wheels/public/simple/\n",
            "Requirement already satisfied: datasets in /usr/local/lib/python3.10/dist-packages (2.12.0)\n",
            "Requirement already satisfied: numpy>=1.17 in /usr/local/lib/python3.10/dist-packages (from datasets) (1.22.4)\n",
            "Requirement already satisfied: pyarrow>=8.0.0 in /usr/local/lib/python3.10/dist-packages (from datasets) (9.0.0)\n",
            "Requirement already satisfied: dill<0.3.7,>=0.3.0 in /usr/local/lib/python3.10/dist-packages (from datasets) (0.3.6)\n",
            "Requirement already satisfied: pandas in /usr/local/lib/python3.10/dist-packages (from datasets) (1.5.3)\n",
            "Requirement already satisfied: requests>=2.19.0 in /usr/local/lib/python3.10/dist-packages (from datasets) (2.27.1)\n",
            "Requirement already satisfied: tqdm>=4.62.1 in /usr/local/lib/python3.10/dist-packages (from datasets) (4.65.0)\n",
            "Requirement already satisfied: xxhash in /usr/local/lib/python3.10/dist-packages (from datasets) (3.2.0)\n",
            "Requirement already satisfied: multiprocess in /usr/local/lib/python3.10/dist-packages (from datasets) (0.70.14)\n",
            "Requirement already satisfied: fsspec[http]>=2021.11.1 in /usr/local/lib/python3.10/dist-packages (from datasets) (2023.4.0)\n",
            "Requirement already satisfied: aiohttp in /usr/local/lib/python3.10/dist-packages (from datasets) (3.8.4)\n",
            "Requirement already satisfied: huggingface-hub<1.0.0,>=0.11.0 in /usr/local/lib/python3.10/dist-packages (from datasets) (0.14.1)\n",
            "Requirement already satisfied: packaging in /usr/local/lib/python3.10/dist-packages (from datasets) (23.1)\n",
            "Requirement already satisfied: responses<0.19 in /usr/local/lib/python3.10/dist-packages (from datasets) (0.18.0)\n",
            "Requirement already satisfied: pyyaml>=5.1 in /usr/local/lib/python3.10/dist-packages (from datasets) (6.0)\n",
            "Requirement already satisfied: attrs>=17.3.0 in /usr/local/lib/python3.10/dist-packages (from aiohttp->datasets) (23.1.0)\n",
            "Requirement already satisfied: charset-normalizer<4.0,>=2.0 in /usr/local/lib/python3.10/dist-packages (from aiohttp->datasets) (2.0.12)\n",
            "Requirement already satisfied: multidict<7.0,>=4.5 in /usr/local/lib/python3.10/dist-packages (from aiohttp->datasets) (6.0.4)\n",
            "Requirement already satisfied: async-timeout<5.0,>=4.0.0a3 in /usr/local/lib/python3.10/dist-packages (from aiohttp->datasets) (4.0.2)\n",
            "Requirement already satisfied: yarl<2.0,>=1.0 in /usr/local/lib/python3.10/dist-packages (from aiohttp->datasets) (1.9.2)\n",
            "Requirement already satisfied: frozenlist>=1.1.1 in /usr/local/lib/python3.10/dist-packages (from aiohttp->datasets) (1.3.3)\n",
            "Requirement already satisfied: aiosignal>=1.1.2 in /usr/local/lib/python3.10/dist-packages (from aiohttp->datasets) (1.3.1)\n",
            "Requirement already satisfied: filelock in /usr/local/lib/python3.10/dist-packages (from huggingface-hub<1.0.0,>=0.11.0->datasets) (3.12.0)\n",
            "Requirement already satisfied: typing-extensions>=3.7.4.3 in /usr/local/lib/python3.10/dist-packages (from huggingface-hub<1.0.0,>=0.11.0->datasets) (4.5.0)\n",
            "Requirement already satisfied: urllib3<1.27,>=1.21.1 in /usr/local/lib/python3.10/dist-packages (from requests>=2.19.0->datasets) (1.26.15)\n",
            "Requirement already satisfied: certifi>=2017.4.17 in /usr/local/lib/python3.10/dist-packages (from requests>=2.19.0->datasets) (2022.12.7)\n",
            "Requirement already satisfied: idna<4,>=2.5 in /usr/local/lib/python3.10/dist-packages (from requests>=2.19.0->datasets) (3.4)\n",
            "Requirement already satisfied: python-dateutil>=2.8.1 in /usr/local/lib/python3.10/dist-packages (from pandas->datasets) (2.8.2)\n",
            "Requirement already satisfied: pytz>=2020.1 in /usr/local/lib/python3.10/dist-packages (from pandas->datasets) (2022.7.1)\n",
            "Requirement already satisfied: six>=1.5 in /usr/local/lib/python3.10/dist-packages (from python-dateutil>=2.8.1->pandas->datasets) (1.16.0)\n"
          ]
        }
      ],
      "source": [
        "!pip install datasets"
      ]
    },
    {
      "cell_type": "code",
      "source": [
        "!pip install git+https://github.com/huggingface/transformers.git\n",
        "!pip install sentencepiece\n"
      ],
      "metadata": {
        "colab": {
          "base_uri": "https://localhost:8080/"
        },
        "id": "AVrMJ9X-bVMX",
        "outputId": "8cf02d63-3bf5-4fbc-859f-e29c1aa2de78"
      },
      "execution_count": 2,
      "outputs": [
        {
          "output_type": "stream",
          "name": "stdout",
          "text": [
            "Looking in indexes: https://pypi.org/simple, https://us-python.pkg.dev/colab-wheels/public/simple/\n",
            "Collecting git+https://github.com/huggingface/transformers.git\n",
            "  Cloning https://github.com/huggingface/transformers.git to /tmp/pip-req-build-rghihqz4\n",
            "  Running command git clone --filter=blob:none --quiet https://github.com/huggingface/transformers.git /tmp/pip-req-build-rghihqz4\n",
            "  Resolved https://github.com/huggingface/transformers.git to commit f67dac97bdc63874f2288546b3fa87e69d2ea1c8\n",
            "  Installing build dependencies ... \u001b[?25l\u001b[?25hdone\n",
            "  Getting requirements to build wheel ... \u001b[?25l\u001b[?25hdone\n",
            "  Preparing metadata (pyproject.toml) ... \u001b[?25l\u001b[?25hdone\n",
            "Requirement already satisfied: filelock in /usr/local/lib/python3.10/dist-packages (from transformers==4.30.0.dev0) (3.12.0)\n",
            "Requirement already satisfied: huggingface-hub<1.0,>=0.14.1 in /usr/local/lib/python3.10/dist-packages (from transformers==4.30.0.dev0) (0.14.1)\n",
            "Requirement already satisfied: numpy>=1.17 in /usr/local/lib/python3.10/dist-packages (from transformers==4.30.0.dev0) (1.22.4)\n",
            "Requirement already satisfied: packaging>=20.0 in /usr/local/lib/python3.10/dist-packages (from transformers==4.30.0.dev0) (23.1)\n",
            "Requirement already satisfied: pyyaml>=5.1 in /usr/local/lib/python3.10/dist-packages (from transformers==4.30.0.dev0) (6.0)\n",
            "Requirement already satisfied: regex!=2019.12.17 in /usr/local/lib/python3.10/dist-packages (from transformers==4.30.0.dev0) (2022.10.31)\n",
            "Requirement already satisfied: requests in /usr/local/lib/python3.10/dist-packages (from transformers==4.30.0.dev0) (2.27.1)\n",
            "Requirement already satisfied: tokenizers!=0.11.3,<0.14,>=0.11.1 in /usr/local/lib/python3.10/dist-packages (from transformers==4.30.0.dev0) (0.13.3)\n",
            "Requirement already satisfied: safetensors>=0.2.1 in /usr/local/lib/python3.10/dist-packages (from transformers==4.30.0.dev0) (0.3.1)\n",
            "Requirement already satisfied: tqdm>=4.27 in /usr/local/lib/python3.10/dist-packages (from transformers==4.30.0.dev0) (4.65.0)\n",
            "Requirement already satisfied: fsspec in /usr/local/lib/python3.10/dist-packages (from huggingface-hub<1.0,>=0.14.1->transformers==4.30.0.dev0) (2023.4.0)\n",
            "Requirement already satisfied: typing-extensions>=3.7.4.3 in /usr/local/lib/python3.10/dist-packages (from huggingface-hub<1.0,>=0.14.1->transformers==4.30.0.dev0) (4.5.0)\n",
            "Requirement already satisfied: urllib3<1.27,>=1.21.1 in /usr/local/lib/python3.10/dist-packages (from requests->transformers==4.30.0.dev0) (1.26.15)\n",
            "Requirement already satisfied: certifi>=2017.4.17 in /usr/local/lib/python3.10/dist-packages (from requests->transformers==4.30.0.dev0) (2022.12.7)\n",
            "Requirement already satisfied: charset-normalizer~=2.0.0 in /usr/local/lib/python3.10/dist-packages (from requests->transformers==4.30.0.dev0) (2.0.12)\n",
            "Requirement already satisfied: idna<4,>=2.5 in /usr/local/lib/python3.10/dist-packages (from requests->transformers==4.30.0.dev0) (3.4)\n",
            "Looking in indexes: https://pypi.org/simple, https://us-python.pkg.dev/colab-wheels/public/simple/\n",
            "Requirement already satisfied: sentencepiece in /usr/local/lib/python3.10/dist-packages (0.1.99)\n"
          ]
        }
      ]
    },
    {
      "cell_type": "code",
      "source": [
        "from transformers import AutoTokenizer, AutoModelWithLMHead\n",
        "\n",
        "tokenizer = AutoTokenizer.from_pretrained(\"mrm8488/t5-base-finetuned-emotion\")\n",
        "\n",
        "model = AutoModelWithLMHead.from_pretrained(\"mrm8488/t5-base-finetuned-emotion\")\n",
        "\n",
        "def get_emotion(text):\n",
        "  input_ids = tokenizer.encode(text + '</s>', return_tensors='pt')\n",
        "\n",
        "  output = model.generate(input_ids=input_ids,\n",
        "               max_length=2)\n",
        "  \n",
        "  dec = [tokenizer.decode(ids) for ids in output]\n",
        "  label = dec[0]\n",
        "  return label\n",
        "  \n",
        "# get_emotion(\"i feel as if i havent blogged in ages are at least truly blogged i am doing an update cute\") # Output: 'joy'\n",
        "\n",
        "get_emotion(\"yo\") # Output: 'sadness'\n"
      ],
      "metadata": {
        "colab": {
          "base_uri": "https://localhost:8080/",
          "height": 90
        },
        "id": "qfm7TKgWbT3R",
        "outputId": "c143bf16-6ad6-4f10-b9ad-6f8588f6c29c"
      },
      "execution_count": 3,
      "outputs": [
        {
          "output_type": "stream",
          "name": "stderr",
          "text": [
            "/usr/local/lib/python3.10/dist-packages/transformers/models/auto/modeling_auto.py:1356: FutureWarning: The class `AutoModelWithLMHead` is deprecated and will be removed in a future version. Please use `AutoModelForCausalLM` for causal language models, `AutoModelForMaskedLM` for masked language models and `AutoModelForSeq2SeqLM` for encoder-decoder models.\n",
            "  warnings.warn(\n"
          ]
        },
        {
          "output_type": "execute_result",
          "data": {
            "text/plain": [
              "'<pad> anger'"
            ],
            "application/vnd.google.colaboratory.intrinsic+json": {
              "type": "string"
            }
          },
          "metadata": {},
          "execution_count": 3
        }
      ]
    },
    {
      "cell_type": "code",
      "source": [
        "from transformers import SpeechT5Processor, SpeechT5ForTextToSpeech\n",
        "\n",
        "processor = SpeechT5Processor.from_pretrained(\"microsoft/speecht5_tts\")\n",
        "model_tts = SpeechT5ForTextToSpeech.from_pretrained(\"microsoft/speecht5_tts\")"
      ],
      "metadata": {
        "id": "yD4sfnhvbIkc"
      },
      "execution_count": 4,
      "outputs": []
    },
    {
      "cell_type": "code",
      "source": [
        "from datasets import load_dataset\n",
        "embeddings_dataset = load_dataset(\"Matthijs/cmu-arctic-xvectors\", split=\"validation\")\n",
        "\n",
        "import torch\n",
        "speaker_embeddings = torch.tensor(embeddings_dataset[7306][\"xvector\"]).unsqueeze(0)"
      ],
      "metadata": {
        "colab": {
          "base_uri": "https://localhost:8080/"
        },
        "id": "6xTUz6jwdZ-P",
        "outputId": "48f208a4-5b1f-412d-ec88-bddbf40574c8"
      },
      "execution_count": 5,
      "outputs": [
        {
          "output_type": "stream",
          "name": "stderr",
          "text": [
            "WARNING:datasets.builder:Found cached dataset cmu-arctic-xvectors (/root/.cache/huggingface/datasets/Matthijs___cmu-arctic-xvectors/default/0.0.1/a62fea1f9415e240301ea0042ffad2a3aadf4d1caa7f9a8d9512d631723e781f)\n"
          ]
        }
      ]
    },
    {
      "cell_type": "markdown",
      "source": [
        "## PLEASE ENTER YOUR TEXT HERE\n"
      ],
      "metadata": {
        "id": "FuvIuHg-iqOX"
      }
    },
    {
      "cell_type": "code",
      "source": [
        "inp = input(\"Enter your Text :\")"
      ],
      "metadata": {
        "colab": {
          "base_uri": "https://localhost:8080/"
        },
        "id": "inRQ-3VDdhha",
        "outputId": "b851b48d-1175-44d9-8203-c0dcd982f77a"
      },
      "execution_count": 6,
      "outputs": [
        {
          "name": "stdout",
          "output_type": "stream",
          "text": [
            "Enter your Text :hello boss\n"
          ]
        }
      ]
    },
    {
      "cell_type": "code",
      "source": [
        "emo = get_emotion(inp)\n",
        "emotion_of_text = emo[6:]\n",
        "emotion_of_text"
      ],
      "metadata": {
        "colab": {
          "base_uri": "https://localhost:8080/",
          "height": 35
        },
        "id": "Qg0vlnlReHS7",
        "outputId": "937a3ee4-cb65-4721-8871-6fc8b9873884"
      },
      "execution_count": 7,
      "outputs": [
        {
          "output_type": "execute_result",
          "data": {
            "text/plain": [
              "'joy'"
            ],
            "application/vnd.google.colaboratory.intrinsic+json": {
              "type": "string"
            }
          },
          "metadata": {},
          "execution_count": 7
        }
      ]
    },
    {
      "cell_type": "code",
      "source": [
        "inputs = processor(text= emotion_of_text + ':' + inp, return_tensors=\"pt\")"
      ],
      "metadata": {
        "id": "W2DyA8M3ePJP"
      },
      "execution_count": 8,
      "outputs": []
    },
    {
      "cell_type": "code",
      "source": [
        "from transformers import SpeechT5HifiGan\n",
        "vocoder = SpeechT5HifiGan.from_pretrained(\"microsoft/speecht5_hifigan\")"
      ],
      "metadata": {
        "id": "1QX6XhsUgWiQ"
      },
      "execution_count": 9,
      "outputs": []
    },
    {
      "cell_type": "code",
      "source": [
        "speech = model_tts.generate_speech(inputs[\"input_ids\"], speaker_embeddings, vocoder=vocoder)"
      ],
      "metadata": {
        "id": "XsXC2vxZhJxy"
      },
      "execution_count": 10,
      "outputs": []
    },
    {
      "cell_type": "code",
      "source": [
        "import soundfile as sf\n",
        "sf.write(\"output.wav\", speech.numpy(), samplerate=16000)"
      ],
      "metadata": {
        "id": "JsHBzCkChPVu"
      },
      "execution_count": 11,
      "outputs": []
    },
    {
      "cell_type": "code",
      "source": [
        "from IPython.display import Audio, display\n",
        "\n",
        "display(Audio('/content/output.wav', autoplay=True))"
      ],
      "metadata": {
        "colab": {
          "base_uri": "https://localhost:8080/",
          "height": 75
        },
        "id": "AM3l__TGhXrv",
        "outputId": "3b5c4d36-3790-4b68-9008-870512303a4a"
      },
      "execution_count": 12,
      "outputs": [
        {
          "output_type": "display_data",
          "data": {
            "text/plain": [
              "<IPython.lib.display.Audio object>"
            ],
            "text/html": [
              "\n",
              "                <audio  controls=\"controls\" autoplay=\"autoplay\">\n",
              "                    <source src=\"data:audio/x-wav;base64,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\" type=\"audio/x-wav\" />\n",
              "                    Your browser does not support the audio element.\n",
              "                </audio>\n",
              "              "
            ]
          },
          "metadata": {}
        }
      ]
    }
  ]
}